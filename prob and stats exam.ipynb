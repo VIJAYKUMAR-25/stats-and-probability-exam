{
 "cells": [
  {
   "cell_type": "markdown",
   "id": "71b4d734",
   "metadata": {},
   "source": [
    "# SOLUTION FOR QN 1"
   ]
  },
  {
   "cell_type": "markdown",
   "id": "0d441507",
   "metadata": {},
   "source": [
    "### let p(a)=prob.of diamond card in first random event,\n",
    "### p(b)=prob.of heart card in second event,\n",
    "### p(c)= prob.of spade card in third event."
   ]
  },
  {
   "cell_type": "code",
   "execution_count": 2,
   "id": "7fd44db9",
   "metadata": {},
   "outputs": [],
   "source": [
    "p_a=13/52\n",
    "p_b=13/51\n",
    "p_c=13/50\n",
    "p_total=p_a*p_b*p_c"
   ]
  },
  {
   "cell_type": "code",
   "execution_count": 4,
   "id": "aabf0043",
   "metadata": {},
   "outputs": [
    {
     "name": "stdout",
     "output_type": "stream",
     "text": [
      "The Total probability for the 3 random events is:  0.01656862745098039\n"
     ]
    }
   ],
   "source": [
    "print(\"The Total probability for the 3 random events is: \",p_total)"
   ]
  },
  {
   "cell_type": "markdown",
   "id": "1cc32c8d",
   "metadata": {},
   "source": [
    "# SOLUTION FOR QN 2"
   ]
  },
  {
   "cell_type": "code",
   "execution_count": 5,
   "id": "f7f6ba4a",
   "metadata": {},
   "outputs": [
    {
     "data": {
      "text/plain": [
       "'The information gained by a survey done by a productioncompany: 42 % of the respondents said that they like action\\nmovies, 54 % like comedy movies, 36 % like drama movies,\\n\\nand 12 % like horror movies. If a person is selected at\\n\\nrandom, find the probability that his or her,\\n\\na. Favorite movie type is either action or drama'"
      ]
     },
     "execution_count": 5,
     "metadata": {},
     "output_type": "execute_result"
    }
   ],
   "source": [
    "'''The information gained by a survey done by a production company: 42 % of the respondents said that they like action\n",
    "movies, 54 % like comedy movies, 36 % like drama movies,\n",
    "\n",
    "and 12 % like horror movies. If a person is selected at\n",
    "\n",
    "random, find the probability that his or her,\n",
    "\n",
    "a. Favorite movie type is either action or drama'''"
   ]
  },
  {
   "cell_type": "markdown",
   "id": "c41663df",
   "metadata": {},
   "source": [
    "### let,p(a)=prob.of liking action movies= 42/100\n",
    "### p(c)=prob.of liking comedy movies= 54/100\n",
    "### p(d)=prob.of liking drama type movies= 36/100\n",
    "### p(h)=prob.of liking horror movies= 12/100\n",
    "### p(a,d)=prob.of liking  either action  or drama ?\n",
    "### p(c,h)=prob.of liking either comedy or horror ?"
   ]
  },
  {
   "cell_type": "code",
   "execution_count": 7,
   "id": "76bf7c89",
   "metadata": {},
   "outputs": [],
   "source": [
    "p_a=42/100\n",
    "p_c=54/100\n",
    "p_d=36/100\n",
    "p_h=12/100\n",
    "p_AD=p_a+p_d\n",
    "p_CH=p_c+p_h"
   ]
  },
  {
   "cell_type": "code",
   "execution_count": 8,
   "id": "6dd89ac7",
   "metadata": {},
   "outputs": [
    {
     "name": "stdout",
     "output_type": "stream",
     "text": [
      "prob.of liking either action or drama : 0.78\n",
      "prob.of liking either comedy or horror: 0.66\n"
     ]
    }
   ],
   "source": [
    "print(\"prob.of liking either action or drama :\",p_AD)\n",
    "print(\"prob.of liking either comedy or horror:\",p_CH)"
   ]
  },
  {
   "cell_type": "markdown",
   "id": "98487e1e",
   "metadata": {},
   "source": [
    "# SOLUTION FOR QN 3"
   ]
  },
  {
   "cell_type": "markdown",
   "id": "bb33ffff",
   "metadata": {},
   "source": [
    "### given bagA contains 3 red and 5 black balls\n",
    "###  bagB contains 4 red and 7 black balls\n",
    "### let p(a)=p(b)=1/2\n",
    "### p(b/a)=prob.of black ball from bagA=5/8\n",
    "### then p(b/b)=7/11\n",
    "### p(B/B)= prob.of black ball from bagB ?"
   ]
  },
  {
   "cell_type": "code",
   "execution_count": 12,
   "id": "9fec3c24",
   "metadata": {},
   "outputs": [],
   "source": [
    "pa=pb=1/2\n",
    "p_b_a=5/8\n",
    "p_b_b=7/11\n",
    "P_B_B=(pb*p_b_b)/((pa*p_b_a)+(pb*p_b_a))"
   ]
  },
  {
   "cell_type": "code",
   "execution_count": 13,
   "id": "8488716a",
   "metadata": {},
   "outputs": [
    {
     "data": {
      "text/plain": [
       "0.509090909090909"
      ]
     },
     "execution_count": 13,
     "metadata": {},
     "output_type": "execute_result"
    }
   ],
   "source": [
    "P_B_B"
   ]
  },
  {
   "cell_type": "markdown",
   "id": "00064860",
   "metadata": {},
   "source": [
    "# SOLUTION FOR QN 4 "
   ]
  },
  {
   "cell_type": "markdown",
   "id": "20a7e8dc",
   "metadata": {},
   "source": [
    "## given that 450 applications in 1 hour\n",
    "## by applying poissons distribution,"
   ]
  },
  {
   "cell_type": "code",
   "execution_count": 14,
   "id": "a964d34f",
   "metadata": {},
   "outputs": [],
   "source": [
    "#(a) receiving 10 applications in 1 minute"
   ]
  },
  {
   "cell_type": "code",
   "execution_count": 15,
   "id": "9e102079",
   "metadata": {},
   "outputs": [],
   "source": [
    "lambda_=450/60\n",
    "x=10\n",
    "#p(X=x)=e**(-15/2).(15/2**10)/factoraial(x)\n"
   ]
  },
  {
   "cell_type": "code",
   "execution_count": null,
   "id": "f8dda1b6",
   "metadata": {},
   "outputs": [],
   "source": [
    "p(X=x)=0.0858"
   ]
  },
  {
   "cell_type": "code",
   "execution_count": null,
   "id": "82f60cce",
   "metadata": {},
   "outputs": [],
   "source": [
    "# (b) receiving 17 applications atleast 2 mins\n",
    "x=17\n",
    "#p(X=x)=e**(-15/2).(15/2**17)/factoraial(x)"
   ]
  },
  {
   "cell_type": "code",
   "execution_count": null,
   "id": "483f7a92",
   "metadata": {},
   "outputs": [],
   "source": [
    "p(X=x)=0.6321"
   ]
  },
  {
   "cell_type": "markdown",
   "id": "e0a76516",
   "metadata": {},
   "source": [
    "# SOLUTION FOR QN 6"
   ]
  },
  {
   "cell_type": "code",
   "execution_count": null,
   "id": "b8022eb6",
   "metadata": {},
   "outputs": [],
   "source": [
    "z=x-mu/sigma\n",
    "0.675=(x-350870)/12405\n",
    "x=350870+(0.675*12405)"
   ]
  },
  {
   "cell_type": "markdown",
   "id": "59115764",
   "metadata": {},
   "source": [
    "#### 75th percentile =359237.045"
   ]
  },
  {
   "cell_type": "markdown",
   "id": "baae1b86",
   "metadata": {},
   "source": [
    "# SOLUTION FOR QN 7:"
   ]
  },
  {
   "cell_type": "code",
   "execution_count": 20,
   "id": "43877da2",
   "metadata": {},
   "outputs": [
    {
     "data": {
      "text/plain": [
       "(0.9921235138705414, 0.5051139397884965)"
      ]
     },
     "execution_count": 20,
     "metadata": {},
     "output_type": "execute_result"
    }
   ],
   "source": [
    "x=[44,21,36,34,77,32,29,39,92,67,45,37]\n",
    "y=[47,81,41,79,38,20,33,83,41,40,69,36]\n",
    "import numpy as np\n",
    "import scipy\n",
    "def f_test(x, y):\n",
    "    \n",
    "    f = np.var(x, ddof=1)/np.var(y, ddof=1) #calculate F test statistic \n",
    "    dfn = len(x)-1 #define degrees of freedom numerator \n",
    "    dfd = len(y)-1 #define degrees of freedom denominator \n",
    "    p = 1-scipy.stats.f.cdf(f, dfn, dfd) #find p-value of F test statistic \n",
    "    return f, p\n",
    "\n",
    "#perform F-test\n",
    "\n",
    "f_test(x, y)"
   ]
  },
  {
   "cell_type": "markdown",
   "id": "b099ff43",
   "metadata": {},
   "source": [
    "# SOLUTION FOR QN 9"
   ]
  },
  {
   "cell_type": "code",
   "execution_count": 16,
   "id": "9ca8b551",
   "metadata": {},
   "outputs": [
    {
     "data": {
      "text/plain": [
       "0.040177141568228006"
      ]
     },
     "execution_count": 16,
     "metadata": {},
     "output_type": "execute_result"
    }
   ],
   "source": [
    "from scipy.stats import poisson\n",
    "prob=poisson.pmf(k=80,mu=76)\n",
    "prob"
   ]
  },
  {
   "cell_type": "code",
   "execution_count": null,
   "id": "b1ec52db",
   "metadata": {},
   "outputs": [],
   "source": []
  }
 ],
 "metadata": {
  "kernelspec": {
   "display_name": "Python 3 (ipykernel)",
   "language": "python",
   "name": "python3"
  },
  "language_info": {
   "codemirror_mode": {
    "name": "ipython",
    "version": 3
   },
   "file_extension": ".py",
   "mimetype": "text/x-python",
   "name": "python",
   "nbconvert_exporter": "python",
   "pygments_lexer": "ipython3",
   "version": "3.9.7"
  }
 },
 "nbformat": 4,
 "nbformat_minor": 5
}
